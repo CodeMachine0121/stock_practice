{
 "cells": [
  {
   "cell_type": "code",
   "execution_count": 1,
   "id": "125f4ee6-b655-4801-9eb2-3ac4e775b7c2",
   "metadata": {},
   "outputs": [],
   "source": [
    "from FinMind.data import DataLoader \n",
    "import pandas as pd\n",
    "\n"
   ]
  },
  {
   "cell_type": "code",
   "execution_count": 45,
   "id": "7fcb6d86-227a-4e45-9c6c-39d36b7dee2e",
   "metadata": {},
   "outputs": [
    {
     "name": "stderr",
     "output_type": "stream",
     "text": [
      "\u001b[32m2024-09-27 14:47:14.051\u001b[0m | \u001b[1mINFO    \u001b[0m | \u001b[36mFinMind.data.finmind_api\u001b[0m:\u001b[36mget_data\u001b[0m:\u001b[36m125\u001b[0m - \u001b[1mdownload Dataset.TaiwanStockPrice, data_id: 006208\u001b[0m\n"
     ]
    },
    {
     "name": "stdout",
     "output_type": "stream",
     "text": [
      "Index(['date', 'stock_id', 'Trading_Volume', 'Trading_money', 'open', 'max',\n",
      "       'min', 'close', 'spread', 'Trading_turnover'],\n",
      "      dtype='object')\n"
     ]
    }
   ],
   "source": [
    "## Get data\n",
    "stock_no = '006208'\n",
    "dl = DataLoader()\n",
    "stock_data = dl.taiwan_stock_daily(\n",
    "    stock_id=stock_no, \n",
    "    start_date='2020-06-01',\n",
    "    end_date='2024-09-30')\n",
    "stock_data.to_csv('stock_data.csv', index=False)\n",
    "print(stock_data.keys())\n"
   ]
  },
  {
   "cell_type": "code",
   "execution_count": 47,
   "id": "76527c6c-be39-463e-a456-911127ac3c41",
   "metadata": {},
   "outputs": [
    {
     "name": "stdout",
     "output_type": "stream",
     "text": [
      "           MA_60   close\n",
      "1024  106.654167  107.00\n",
      "1025  106.650833  108.05\n",
      "1026  106.660833  109.80\n",
      "1027  106.680000  110.55\n",
      "1028  106.708333  110.30\n"
     ]
    }
   ],
   "source": [
    "## calculate MA\n",
    "# df = pd.read_csv('stock_data.csv')\n",
    "df = stock_data\n",
    "\n",
    "def calculate_ma(data, window):\n",
    "    return data.rolling(window=window).mean()\n",
    "    \n",
    "ma_window = 60\n",
    "df[f'MA_{ma_window}'] = df['close'].rolling(window=ma_window).mean()\n",
    "df.to_csv('stock_data.csv', index=False)\n",
    "\n",
    "print(df[[f'MA_{ma_window}', 'close']].tail())\n",
    "\n",
    "\n"
   ]
  },
  {
   "cell_type": "code",
   "execution_count": 48,
   "id": "b5c089dd",
   "metadata": {},
   "outputs": [
    {
     "name": "stdout",
     "output_type": "stream",
     "text": [
      "黃金交叉:\n",
      "650    2023-03-07\n",
      "Name: date, dtype: object \n",
      "\n",
      "死亡交叉:\n",
      "451    2022-04-27\n",
      "Name: date, dtype: object \n",
      "\n"
     ]
    }
   ],
   "source": [
    "## 找出 均線黃金交叉 與 均線死亡交叉, 以 50 與 200 為例\n",
    "df['MA_200'] = df['close'].rolling(window=200).mean()\n",
    "df['MA_60'] = df['close'].rolling(window=60).mean()\n",
    "\n",
    "df['is_golden_cross'] = (df['MA_60'].shift(1) < df['MA_200'].shift(1)) & (df['MA_60'] > df['MA_200'])\n",
    "df['is_death_cross'] = (df['MA_60'].shift(1) > df['MA_200'].shift(1)) & (df['MA_60'] < df['MA_200'])\n",
    "\n",
    "print(f'黃金交叉:\\n{df[df['is_golden_cross']]['date']} \\n')\n",
    "print(f'死亡交叉:\\n{df[df['is_death_cross']]['date']} \\n')"
   ]
  },
  {
   "cell_type": "code",
   "execution_count": 49,
   "id": "41fad583-986c-416e-ad1b-2e5e41affa06",
   "metadata": {},
   "outputs": [],
   "source": [
    "## 買入信號：前一天的關盤價 < 前一天的 MA 且 當天的關盤價 > 當天的 MA\n",
    "df['is_buy_signal'] = (df['close'].shift(1) < df[f'MA_{ma_window}'].shift(1)) & (df['close'] > df[f'MA_{ma_window}']) \n"
   ]
  },
  {
   "cell_type": "code",
   "execution_count": 50,
   "id": "2f5a0e17-0c9f-4afb-b5e9-9556879a39a1",
   "metadata": {},
   "outputs": [],
   "source": [
    "## 賣出信號: 前一天的關盤價 > 前一天的 MA 且 當天的關盤價 < 當天的 MA\n",
    "df['is_sell_signal'] = (df['close'].shift(1) > df[f'MA_{ma_window}'].shift(1)) & (df['close'] < df[f'MA_{ma_window}']) \n"
   ]
  },
  {
   "cell_type": "code",
   "execution_count": 44,
   "id": "7ab7a5ed-142e-4728-8043-b7e3959ab6ba",
   "metadata": {},
   "outputs": [
    {
     "name": "stdout",
     "output_type": "stream",
     "text": [
      "買入信號日期：\n",
      "            date       MA_60   close\n",
      "792   2023-10-11   72.821667   72.85\n",
      "809   2023-11-03   72.043333   72.40\n",
      "999   2024-08-16  106.035000  107.35\n",
      "1007  2024-08-28  106.928333  106.95\n",
      "1024  2024-09-23  106.654167  107.00\n",
      "\n",
      "賣出信號日期：\n",
      "            date       MA_60   close\n",
      "749   2023-08-08   73.573333   73.40\n",
      "797   2023-10-18   72.613333   72.10\n",
      "989   2024-08-02  105.058333  102.40\n",
      "1002  2024-08-21  106.395000  106.25\n",
      "1008  2024-08-29  107.038333  105.75\n"
     ]
    }
   ],
   "source": [
    "# 找出所有買入信號的日期\n",
    "buy_dates = df[df['is_buy_signal']][['date', f'MA_{ma_window}', 'close']]\n",
    "\n",
    "# 找出所有賣出信號的日期\n",
    "sell_dates = df[df['is_sell_signal']][['date', f'MA_{ma_window}', 'close']]\n",
    "\n",
    "print(\"買入信號日期：\")\n",
    "print(f'{buy_dates.tail()}')\n",
    "\n",
    "print(\"\\n賣出信號日期：\")\n",
    "print(f'{sell_dates.tail()}')"
   ]
  },
  {
   "cell_type": "code",
   "execution_count": null,
   "id": "7c31c828-802f-4f9d-88df-a558d772850e",
   "metadata": {},
   "outputs": [],
   "source": []
  },
  {
   "cell_type": "code",
   "execution_count": 53,
   "id": "2b1f857c-8a8a-4495-a4d4-ac1f585539e5",
   "metadata": {},
   "outputs": [
    {
     "name": "stdout",
     "output_type": "stream",
     "text": [
      "          EMA_60   close\n",
      "1024  104.326714  107.00\n",
      "1025  104.448789  108.05\n",
      "1026  104.624238  109.80\n",
      "1027  104.818526  110.55\n",
      "1028  104.998246  110.30\n"
     ]
    }
   ],
   "source": [
    "# EMA\n",
    "df = pd.read_csv('stock_data.csv')\n",
    "ema_window = 60 \n",
    "df[f'EMA_{ema_window}'] = df['close'].ewm(span=ema_window).mean()\n",
    "\n",
    "print(df[[f'EMA_{ema_window}', 'close']].tail())"
   ]
  },
  {
   "cell_type": "code",
   "execution_count": 54,
   "id": "baf137f2",
   "metadata": {},
   "outputs": [],
   "source": [
    "df['is_buy_signal_ema'] = (df['close'].shift(1) < df[f'EMA_{ema_window}'].shift(1)) & (df['close'] > df[f'EMA_{ema_window}'])\n",
    "\n",
    "df['is_sell_signal_ema'] = (df['close'].shift(1) > df[f'EMA_{ema_window}'].shift(1)) & (df['close'] < df[f'EMA_{ema_window}'])"
   ]
  },
  {
   "cell_type": "code",
   "execution_count": 55,
   "id": "fefddce8",
   "metadata": {},
   "outputs": [
    {
     "name": "stdout",
     "output_type": "stream",
     "text": [
      "買入信號日期：\n",
      "            date      EMA_60   close\n",
      "809   2023-11-03   72.049896   72.40\n",
      "862   2024-01-18   74.870864   75.00\n",
      "995   2024-08-12  104.007069  104.05\n",
      "1019  2024-09-13  104.099834  104.40\n",
      "1022  2024-09-19  104.155962  105.35\n",
      "賣出信號日期：\n",
      "            date      EMA_60  close\n",
      "797   2023-10-18   72.414961   72.1\n",
      "861   2024-01-17   74.866487   74.7\n",
      "989   2024-08-02  104.883877  102.4\n",
      "1012  2024-09-04  104.683908  100.3\n",
      "1021  2024-09-18  104.115486  103.9\n"
     ]
    }
   ],
   "source": [
    "print(f'買入信號日期：\\n{df[df[\"is_buy_signal_ema\"]][[\"date\", f\"EMA_{ema_window}\", \"close\"]].tail()}')\n",
    "\n",
    "print(f'賣出信號日期：\\n{df[df[\"is_sell_signal_ema\"]][[\"date\", f\"EMA_{ema_window}\", \"close\"]].tail()}')"
   ]
  },
  {
   "cell_type": "code",
   "execution_count": null,
   "id": "550ddbc3",
   "metadata": {},
   "outputs": [],
   "source": []
  },
  {
   "cell_type": "markdown",
   "id": "c85e7a1c",
   "metadata": {},
   "source": []
  }
 ],
 "metadata": {
  "kernelspec": {
   "display_name": "stock-V84uveQf",
   "language": "python",
   "name": "python3"
  },
  "language_info": {
   "codemirror_mode": {
    "name": "ipython",
    "version": 3
   },
   "file_extension": ".py",
   "mimetype": "text/x-python",
   "name": "python",
   "nbconvert_exporter": "python",
   "pygments_lexer": "ipython3",
   "version": "3.12.6"
  }
 },
 "nbformat": 4,
 "nbformat_minor": 5
}
