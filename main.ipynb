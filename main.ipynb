{
 "cells": [
  {
   "cell_type": "code",
   "execution_count": 19,
   "id": "125f4ee6-b655-4801-9eb2-3ac4e775b7c2",
   "metadata": {},
   "outputs": [],
   "source": [
    "from FinMind.data import DataLoader \n",
    "import pandas as pd\n",
    "\n"
   ]
  },
  {
   "cell_type": "code",
   "execution_count": 61,
   "id": "7fcb6d86-227a-4e45-9c6c-39d36b7dee2e",
   "metadata": {},
   "outputs": [
    {
     "name": "stderr",
     "output_type": "stream",
     "text": [
      "\u001b[32m2024-09-27 00:37:34.032\u001b[0m | \u001b[1mINFO    \u001b[0m | \u001b[36mFinMind.data.finmind_api\u001b[0m:\u001b[36mget_data\u001b[0m:\u001b[36m125\u001b[0m - \u001b[1mdownload Dataset.TaiwanStockPrice, data_id: 00919\u001b[0m\n"
     ]
    },
    {
     "name": "stdout",
     "output_type": "stream",
     "text": [
      "Index(['date', 'stock_id', 'Trading_Volume', 'Trading_money', 'open', 'max',\n",
      "       'min', 'close', 'spread', 'Trading_turnover'],\n",
      "      dtype='object')\n"
     ]
    }
   ],
   "source": [
    "## Get data\n",
    "stock_no = '00919'\n",
    "dl = DataLoader()\n",
    "stock_data = dl.taiwan_stock_daily(\n",
    "    stock_id=stock_no, \n",
    "    start_date='2012-09-30',\n",
    "    end_date='2024-09-30')\n",
    "stock_data.to_csv('stock_data.csv', index=False)\n",
    "print(stock_data.keys())\n"
   ]
  },
  {
   "cell_type": "code",
   "execution_count": 55,
   "id": "76527c6c-be39-463e-a456-911127ac3c41",
   "metadata": {},
   "outputs": [
    {
     "name": "stdout",
     "output_type": "stream",
     "text": [
      "         MA_60  close\n",
      "464  24.732000  24.18\n",
      "465  24.694000  23.61\n",
      "466  24.659667  23.74\n",
      "467  24.628000  23.95\n",
      "468  24.592833  24.03\n"
     ]
    }
   ],
   "source": [
    "## calculate MA\n",
    "df = pd.read_csv('stock_data.csv')\n",
    "\n",
    "def calculate_ma(data, window):\n",
    "    return data.rolling(window=window).mean()\n",
    "    \n",
    "ma_window = 60\n",
    "df[f'MA_{ma_window}'] = df['close'].rolling(window=ma_window).mean()\n",
    "df.to_csv('stock_data.csv', index=False)\n",
    "\n",
    "print(df[[f'MA_{ma_window}', 'close']].tail())\n",
    "\n",
    "\n"
   ]
  },
  {
   "cell_type": "code",
   "execution_count": 57,
   "id": "b5c089dd",
   "metadata": {},
   "outputs": [
    {
     "name": "stdout",
     "output_type": "stream",
     "text": [
      "黃金交叉:\n",
      "Series([], Name: date, dtype: object) \n",
      "\n",
      "死亡交叉:\n",
      "Series([], Name: date, dtype: object) \n",
      "\n"
     ]
    }
   ],
   "source": [
    "## 找出 均線黃金交叉 與 均線死亡交叉, 以 50 與 200 為例\n",
    "df['MA_200'] = df['close'].rolling(window=200).mean()\n",
    "df['MA_60'] = df['close'].rolling(window=60).mean()\n",
    "\n",
    "df['is_golden_cross'] = (df['MA_60'].shift(1) < df['MA_200'].shift(1)) & (df['MA_60'] > df['MA_200'])\n",
    "df['is_death_cross'] = (df['MA_60'].shift(1) > df['MA_200'].shift(1)) & (df['MA_60'] < df['MA_200'])\n",
    "\n",
    "print(f'黃金交叉:\\n{df[df['is_golden_cross']]['date']} \\n')\n",
    "print(f'死亡交叉:\\n{df[df['is_death_cross']]['date']} \\n')"
   ]
  },
  {
   "cell_type": "code",
   "execution_count": 58,
   "id": "41fad583-986c-416e-ad1b-2e5e41affa06",
   "metadata": {},
   "outputs": [],
   "source": [
    "## 買入信號：前一天的關盤價 < 前一天的 MA 且 當天的關盤價 > 當天的 MA\n",
    "df['is_buy_signal'] = (df['close'].shift(1) < df[f'MA_{ma_window}'].shift(1)) & (df['close'] > df[f'MA_{ma_window}']) \n"
   ]
  },
  {
   "cell_type": "code",
   "execution_count": 59,
   "id": "2f5a0e17-0c9f-4afb-b5e9-9556879a39a1",
   "metadata": {},
   "outputs": [],
   "source": [
    "## 賣出信號: 前一天的關盤價 > 前一天的 MA 且 當天的關盤價 < 當天的 MA\n",
    "df['is_sell_signal'] = (df['close'].shift(1) > df[f'MA_{ma_window}'].shift(1)) & (df['close'] < df[f'MA_{ma_window}']) \n"
   ]
  },
  {
   "cell_type": "code",
   "execution_count": 60,
   "id": "7ab7a5ed-142e-4728-8043-b7e3959ab6ba",
   "metadata": {},
   "outputs": [
    {
     "name": "stdout",
     "output_type": "stream",
     "text": [
      "買入信號日期：\n",
      "137    2023-05-22\n",
      "249    2023-11-02\n",
      "362    2024-04-24\n",
      "364    2024-04-26\n",
      "Name: date, dtype: object\n",
      "\n",
      "賣出信號日期：\n",
      "119    2023-04-25\n",
      "236    2023-10-16\n",
      "359    2024-04-19\n",
      "363    2024-04-25\n",
      "421    2024-07-18\n",
      "Name: date, dtype: object\n"
     ]
    }
   ],
   "source": [
    "# 找出所有買入信號的日期\n",
    "buy_dates = df[df['is_buy_signal']]['date']\n",
    "\n",
    "# 找出所有賣出信號的日期\n",
    "sell_dates = df[df['is_sell_signal']]['date']\n",
    "\n",
    "print(\"買入信號日期：\")\n",
    "print(buy_dates.tail())\n",
    "\n",
    "print(\"\\n賣出信號日期：\")\n",
    "print(sell_dates.tail())"
   ]
  },
  {
   "cell_type": "code",
   "execution_count": null,
   "id": "7c31c828-802f-4f9d-88df-a558d772850e",
   "metadata": {},
   "outputs": [],
   "source": []
  },
  {
   "cell_type": "code",
   "execution_count": null,
   "id": "2b1f857c-8a8a-4495-a4d4-ac1f585539e5",
   "metadata": {},
   "outputs": [],
   "source": []
  }
 ],
 "metadata": {
  "kernelspec": {
   "display_name": "stock-V84uveQf",
   "language": "python",
   "name": "python3"
  },
  "language_info": {
   "codemirror_mode": {
    "name": "ipython",
    "version": 3
   },
   "file_extension": ".py",
   "mimetype": "text/x-python",
   "name": "python",
   "nbconvert_exporter": "python",
   "pygments_lexer": "ipython3",
   "version": "3.12.6"
  }
 },
 "nbformat": 4,
 "nbformat_minor": 5
}
