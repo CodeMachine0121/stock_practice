{
 "cells": [
  {
   "cell_type": "code",
   "execution_count": 1,
   "id": "125f4ee6-b655-4801-9eb2-3ac4e775b7c2",
   "metadata": {},
   "outputs": [],
   "source": [
    "from FinMind.data import DataLoader \n",
    "import pandas as pd\n",
    "\n"
   ]
  },
  {
   "cell_type": "code",
   "execution_count": 47,
   "id": "7fcb6d86-227a-4e45-9c6c-39d36b7dee2e",
   "metadata": {},
   "outputs": [
    {
     "name": "stderr",
     "output_type": "stream",
     "text": [
      "\u001b[32m2024-09-26 01:53:13.790\u001b[0m | \u001b[1mINFO    \u001b[0m | \u001b[36mFinMind.data.finmind_api\u001b[0m:\u001b[36mget_data\u001b[0m:\u001b[36m125\u001b[0m - \u001b[1mdownload Dataset.TaiwanStockPrice, data_id: 006208\u001b[0m\n"
     ]
    }
   ],
   "source": [
    "## Get data\n",
    "stock_no = '006208'\n",
    "dl = DataLoader()\n",
    "stock_data = dl.taiwan_stock_daily(\n",
    "    stock_id=stock_no, \n",
    "    start_date='2012-09-30',\n",
    "    end_date='2024-09-30')\n",
    "stock_data.to_csv('stock_data.csv', index=False)\n",
    "\n"
   ]
  },
  {
   "cell_type": "code",
   "execution_count": 48,
   "id": "76527c6c-be39-463e-a456-911127ac3c41",
   "metadata": {},
   "outputs": [
    {
     "name": "stdout",
     "output_type": "stream",
     "text": [
      "        MA_50   close\n",
      "2815  105.994  105.35\n",
      "2816  105.811  106.60\n",
      "2817  105.626  107.00\n",
      "2818  105.409  108.05\n",
      "2819  105.293  109.80\n"
     ]
    }
   ],
   "source": [
    "## calculate MA\n",
    "df = pd.read_csv('stock_data.csv')\n",
    "\n",
    "def calculate_ma(data, window):\n",
    "    return data.rolling(window=window).mean()\n",
    "    \n",
    "ma_window = 50\n",
    "df[f'MA_{ma_window}'] = df['close'].rolling(window=50).mean()\n",
    "df.to_csv('stock_data.csv', index=False)\n",
    "\n",
    "print(df[[f'MA_{ma_window}', 'close']].tail())\n",
    "\n",
    "\n"
   ]
  },
  {
   "cell_type": "code",
   "execution_count": 49,
   "id": "e5701623-0ed1-4c2d-bf92-95b5c084066e",
   "metadata": {},
   "outputs": [
    {
     "name": "stdout",
     "output_type": "stream",
     "text": [
      "2815    7330277.2\n",
      "2816    7375252.6\n",
      "2817    7146829.2\n",
      "2818    6102050.9\n",
      "2819    6151225.6\n",
      "Name: avg_trade_volume_10d, dtype: float64\n"
     ]
    }
   ],
   "source": [
    "## get average trade volume for 10 days before\n",
    "df['avg_trade_volume_10d'] = df['Trading_Volume'].rolling(window=10).mean()\n",
    "print(df['avg_trade_volume_10d'].tail())"
   ]
  },
  {
   "cell_type": "code",
   "execution_count": 50,
   "id": "41fad583-986c-416e-ad1b-2e5e41affa06",
   "metadata": {},
   "outputs": [
    {
     "name": "stdout",
     "output_type": "stream",
     "text": [
      "2815    False\n",
      "2816     True\n",
      "2817    False\n",
      "2818    False\n",
      "2819    False\n",
      "Name: is_buy_signal, dtype: bool\n"
     ]
    }
   ],
   "source": [
    "## 買入信號：前一天的關盤價 < 前一天的 MA 且 當天的關盤價 > 當天的 MA\n",
    "df['is_buy_signal'] = (df['close'].shift(1) < df[f'MA_{ma_window}'].shift(1)) & (df['close'] > df[f'MA_{ma_window}'])\n",
    "\n",
    "print(df['is_buy_signal'].tail())"
   ]
  },
  {
   "cell_type": "code",
   "execution_count": 58,
   "id": "2f5a0e17-0c9f-4afb-b5e9-9556879a39a1",
   "metadata": {},
   "outputs": [
    {
     "name": "stdout",
     "output_type": "stream",
     "text": [
      "0       False\n",
      "1       False\n",
      "2       False\n",
      "3       False\n",
      "4       False\n",
      "        ...  \n",
      "2815    False\n",
      "2816    False\n",
      "2817    False\n",
      "2818    False\n",
      "2819    False\n",
      "Name: is_sell_signal, Length: 2820, dtype: bool\n"
     ]
    }
   ],
   "source": [
    "## 賣出信號: 前一天的關盤價 > 前一天的 MA 且 當天的關盤價 < 當天的 MA\n",
    "df['is_sell_signal'] = (df['close'].shift(1) > df[f'MA_{ma_window}'].shift(1)) & (df['close'] < df[f'MA_{ma_window}'])\n",
    "\n",
    "print(df['is_sell_signal'])"
   ]
  },
  {
   "cell_type": "code",
   "execution_count": 59,
   "id": "7ab7a5ed-142e-4728-8043-b7e3959ab6ba",
   "metadata": {},
   "outputs": [
    {
     "name": "stdout",
     "output_type": "stream",
     "text": [
      "買入信號日期：\n",
      "2713    2024-04-23\n",
      "2776    2024-07-23\n",
      "2781    2024-08-01\n",
      "2792    2024-08-16\n",
      "2816    2024-09-20\n",
      "Name: date, dtype: object\n",
      "\n",
      "賣出信號日期：\n",
      "2712    2024-04-22\n",
      "2775    2024-07-22\n",
      "2777    2024-07-26\n",
      "2782    2024-08-02\n",
      "2793    2024-08-19\n",
      "Name: date, dtype: object\n"
     ]
    }
   ],
   "source": [
    "# 找出所有買入信號的日期\n",
    "buy_dates = df[df['is_buy_signal']]['date']\n",
    "\n",
    "# 找出所有賣出信號的日期\n",
    "sell_dates = df[df['is_sell_signal']]['date']\n",
    "\n",
    "print(\"買入信號日期：\")\n",
    "print(buy_dates.tail())\n",
    "\n",
    "print(\"\\n賣出信號日期：\")\n",
    "print(sell_dates.tail())"
   ]
  },
  {
   "cell_type": "code",
   "execution_count": 56,
   "id": "7c31c828-802f-4f9d-88df-a558d772850e",
   "metadata": {},
   "outputs": [
    {
     "name": "stdout",
     "output_type": "stream",
     "text": [
      "黃金交叉:\n",
      "388     2014-05-28\n",
      "485     2014-10-28\n",
      "622     2015-06-02\n",
      "627     2015-06-09\n",
      "632     2015-06-16\n",
      "636     2015-06-23\n",
      "653     2015-07-17\n",
      "914     2016-08-25\n",
      "1019    2017-02-13\n",
      "1545    2019-05-20\n",
      "1820    2020-07-14\n",
      "2442    2023-03-06\n",
      "Name: date, dtype: object \n",
      "\n",
      "死亡交叉:\n",
      "321     2014-02-18\n",
      "396     2014-06-11\n",
      "618     2015-05-27\n",
      "624     2015-06-04\n",
      "631     2015-06-15\n",
      "635     2015-06-22\n",
      "652     2015-07-16\n",
      "761     2015-12-22\n",
      "942     2016-10-14\n",
      "1442    2018-11-29\n",
      "1757    2020-04-08\n",
      "2238    2022-04-18\n",
      "Name: date, dtype: object \n",
      "\n"
     ]
    }
   ],
   "source": [
    "## 找出 均線黃金交叉 與 均線死亡交叉, 以 50 與 200 為例\n",
    "df['MA_200'] = df['close'].rolling(window=200).mean()\n",
    "df['MA_50'] = df['close'].rolling(window=50).mean()\n",
    "\n",
    "df['is_golden_cross'] = (df['MA_50'].shift(1) < df['MA_200'].shift(1)) & (df['MA_50'] > df['MA_200'])\n",
    "df['is_death_cross'] = (df['MA_50'].shift(1) > df['MA_200'].shift(1)) & (df['MA_50'] < df['MA_200'])\n",
    "\n",
    "print(f'黃金交叉:\\n{df[df['is_golden_cross']]['date']} \\n')\n",
    "print(f'死亡交叉:\\n{df[df['is_death_cross']]['date']} \\n')\n",
    "\n"
   ]
  },
  {
   "cell_type": "code",
   "execution_count": null,
   "id": "2b1f857c-8a8a-4495-a4d4-ac1f585539e5",
   "metadata": {},
   "outputs": [],
   "source": []
  }
 ],
 "metadata": {
  "kernelspec": {
   "display_name": "stock",
   "language": "python",
   "name": "stock"
  },
  "language_info": {
   "codemirror_mode": {
    "name": "ipython",
    "version": 3
   },
   "file_extension": ".py",
   "mimetype": "text/x-python",
   "name": "python",
   "nbconvert_exporter": "python",
   "pygments_lexer": "ipython3",
   "version": "3.12.6"
  }
 },
 "nbformat": 4,
 "nbformat_minor": 5
}
